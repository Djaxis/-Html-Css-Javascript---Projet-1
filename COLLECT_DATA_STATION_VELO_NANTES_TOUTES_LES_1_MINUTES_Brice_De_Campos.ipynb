{
  "nbformat": 4,
  "nbformat_minor": 0,
  "metadata": {
    "colab": {
      "provenance": [],
      "authorship_tag": "ABX9TyOlf/XD2uUbYfFZFRm1/2Ve",
      "include_colab_link": true
    },
    "kernelspec": {
      "name": "python3",
      "display_name": "Python 3"
    },
    "language_info": {
      "name": "python"
    }
  },
  "cells": [
    {
      "cell_type": "markdown",
      "metadata": {
        "id": "view-in-github",
        "colab_type": "text"
      },
      "source": [
        "<a href=\"https://colab.research.google.com/github/Djaxis/-Html-Css-Javascript-Projet-1/blob/main/COLLECT_DATA_STATION_VELO_NANTES_TOUTES_LES_1_MINUTES_Brice_De_Campos.ipynb\" target=\"_parent\"><img src=\"https://colab.research.google.com/assets/colab-badge.svg\" alt=\"Open In Colab\"/></a>"
      ]
    },
    {
      "cell_type": "markdown",
      "source": [
        "vérifier que vous avez bien accès à votre compte Google Drive depuis le notebook en exécutant la commande !ls /content/drive/MyDrive pour voir les fichiers présents dans votre Drive."
      ],
      "metadata": {
        "id": "zobOVEIqvH_g"
      }
    },
    {
      "cell_type": "code",
      "source": [
        "!ls /content/drive/MyDrive/BDD/"
      ],
      "metadata": {
        "colab": {
          "base_uri": "https://localhost:8080/"
        },
        "id": "Bs5CMrhkvJaO",
        "outputId": "c9819d57-1a43-480f-9459-ed93f729142a"
      },
      "execution_count": 4,
      "outputs": [
        {
          "output_type": "stream",
          "name": "stdout",
          "text": [
            "DataNantes2023.csv  UENG_metadata.csv  UENG_metadata.gsheet\n"
          ]
        }
      ]
    },
    {
      "cell_type": "code",
      "source": [
        "from google.colab import drive\n",
        "import os.path\n",
        "import pandas as pd\n",
        "import csv\n",
        "import json\n",
        "import numpy as np\n",
        "import plotly.express as px\n",
        "import requests\n",
        "import seaborn as sns\n",
        "import time\n",
        "import urllib.request\n",
        "import matplotlib.pyplot as plt\n",
        "\n",
        "# monter votre Google Drive\n",
        "drive.mount('/content/drive')\n",
        "# vérifier si le dossier 'BDD' existe dans votre Google Drive\n",
        "bdd_path = '/content/drive/MyDrive/BDD'\n",
        "if not os.path.exists(bdd_path):\n",
        "        os.mkdir(bdd_path)\n",
        "\n",
        "# vérifier si le fichier 'DataNantes2023.csv' existe dans le dossier 'BDD' de votre Google Drive\n",
        "csv_path = '/content/drive/MyDrive/BDD/DataNantes2023.csv'\n",
        "if not os.path.exists(csv_path):\n",
        "        # si le fichier n'existe pas, créer un nouveau dataframe avec le nom \"DataNantes2023\"\n",
        "        DataNantes2023 = pd.DataFrame()\n",
        "        # enregistrer le dataframe dans le fichier CSV\n",
        "        DataNantes2023.to_csv(csv_path, index=False)\n",
        "        print(f'Le fichier {csv_path} a été créé.')\n",
        "else:\n",
        "        print(f'Le fichier {csv_path} existe déjà.')\n",
        "\n",
        "#def collect_data(): \n",
        "       # Collecter les données\n",
        "while True:\n",
        "                link = 'https://data.nantesmetropole.fr/api/records/1.0/search/?dataset=244400404_stations-velos-libre-service-nantes-metropole-disponibilites&q=&facet=banking&facet=bonus&facet=status&facet=contract_name'\n",
        "                r = requests.get(link)\n",
        "                data = json.loads(r.text)\n",
        "\n",
        "                df_new = pd.json_normalize(data['records']) # pour comprendre et prendre la partie de la data souhaitée. Puis on normalise pour avoir un tableau\n",
        "\n",
        "                dfviz= df_new[['fields.status','fields.name','fields.address','fields.available_bikes','fields.available_bike_stands','fields.bike_stands','fields.last_update','fields.position']]\n",
        "                # pour voir les colonnes qui me sont nécessaires et les placer dans un ordre précis\n",
        "\n",
        "                #renommer les colonnes\n",
        "                dfrenam = dfviz.rename(columns={'fields.status':'Status',\n",
        "                                            'fields.name':'Nom Station',\n",
        "                                            'fields.address':'Adresse De Station',\n",
        "                                            'fields.available_bikes':'Vélos Disponibles',\n",
        "                                            'fields.available_bike_stands':'Socles Disponbles',\n",
        "                                            'fields.bike_stands':'Nombre de Socles',\n",
        "                                            'fields.last_update':'Dernière Mise à Jour',\n",
        "                                            'fields.position':'Localisation',\n",
        "                                            })\n",
        "\n",
        "                #création de la ligne taux de remplissage\n",
        "                dfrenam['taux de remplissage'] = dfrenam['Vélos Disponibles']/dfrenam['Nombre de Socles']*100\n",
        "\n",
        "                # Convertir la colonne en type datetime\n",
        "                dfrenam['Dernière Mise à Jour'] = pd.to_datetime(dfrenam['Dernière Mise à Jour'], format='%Y-%m-%dT%H:%M:%S+00:00')\n",
        "\n",
        "                # Séparer la colonne en deux colonnes distinctes date et heure\n",
        "                dfrenam['date'] = dfrenam['Dernière Mise à Jour'].dt.date\n",
        "                dfrenam['heure'] = dfrenam['Dernière Mise à Jour'].dt.time\n",
        "\n",
        "                # Arrondir la colonne 'taux de remplissage' à deux décimales\n",
        "                dfrenam['taux de remplissage'] = dfrenam['taux de remplissage'].round(2)\n",
        "          \n",
        "                # Ajouter les nouvelles données au dataframe existant\n",
        "                #dfactu = pd.concat([DataNantes2023, dfrenam])\n",
        "\n",
        "                # Sauvegarder le dataframe dans le fichier CSV\n",
        "                dfrenam.to_csv('/content/drive/MyDrive/BDD/DataNantes2023.csv', index=False, mode='a')\n",
        "                \n",
        "                #Vérification de la présence du fichier.\n",
        "                !ls /content/drive/MyDrive/BDD/\n",
        "\n",
        "                # vérification visuelle de la ré-écriture dans le fichier.\n",
        "                lire = pd.read_csv(r\"/content/drive/MyDrive/BDD/DataNantes2023.csv\", header=None,sep = \",\")\n",
        "                lire = pd.DataFrame(lire)#convertir le sheet en data\n",
        "                \n",
        "                print(\"NOMBRE DE LIGNES PRESENTES:-\", len(lire))\n",
        "                print(lire)\n",
        "\n",
        "                # Attendre 1 minutes avant de collecter de nouvelles données\n",
        "                time.sleep(60)\n"
      ],
      "metadata": {
        "colab": {
          "base_uri": "https://localhost:8080/"
        },
        "id": "uAmyn94lww_t",
        "outputId": "17586d49-1360-42e8-e6b9-dd4a0040431e"
      },
      "execution_count": null,
      "outputs": [
        {
          "output_type": "stream",
          "name": "stdout",
          "text": [
            "Drive already mounted at /content/drive; to attempt to forcibly remount, call drive.mount(\"/content/drive\", force_remount=True).\n",
            "Le fichier /content/drive/MyDrive/BDD/DataNantes2023.csv existe déjà.\n",
            "DataNantes2023.csv  UENG_metadata.csv  UENG_metadata.gsheet\n",
            "NOMBRE DE LIGNES PRESENTES:- 363\n",
            "         0                      1   \\\n",
            "0    Status            Nom Station   \n",
            "1      OPEN             084-RÉGION   \n",
            "2      OPEN           104-ANTILLES   \n",
            "3      OPEN              090-PROCÉ   \n",
            "4      OPEN   017-SAINTE ÉLISABETH   \n",
            "..      ...                    ...   \n",
            "358    OPEN        115-TRENTEMOULT   \n",
            "359    OPEN     002-HÔTEL DE VILLE   \n",
            "360    OPEN             018-VIARME   \n",
            "361    OPEN  044-PALAIS DE JUSTICE   \n",
            "362    OPEN            050-CHÂTEAU   \n",
            "\n",
            "                                                    2                  3   \\\n",
            "0                                   Adresse De Station  Vélos Disponibles   \n",
            "1              Rue de la Loire - place Gaston Defferre                  8   \n",
            "2                                20, quai des Antilles                  3   \n",
            "3    Angle boulevard Gaston Serpette - Boulevard Au...                  8   \n",
            "4                            4, place Sainte Elisabeth                  8   \n",
            "..                                                 ...                ...   \n",
            "358  Face 11, quai Marcel Boissard - Trentemoult - ...                 12   \n",
            "359                              29, rue de Strasbourg                  3   \n",
            "360                                   23, place Viarme                  8   \n",
            "361  19, quai François Mitterand - 1, rue Olympe de...                 15   \n",
            "362                                   7, rue des Etats                  0   \n",
            "\n",
            "                    4                 5                     6   \\\n",
            "0    Socles Disponbles  Nombre de Socles  Dernière Mise à Jour   \n",
            "1                   14                22   2023-02-23 16:03:35   \n",
            "2                   21                24   2023-02-23 16:03:26   \n",
            "3                    7                15   2023-02-23 16:03:28   \n",
            "4                    6                14   2023-02-23 16:04:09   \n",
            "..                 ...               ...                   ...   \n",
            "358                 14                26   2023-02-23 16:50:15   \n",
            "359                 17                20   2023-02-23 16:54:01   \n",
            "360                  6                14   2023-02-23 16:53:27   \n",
            "361                 16                31   2023-02-23 16:53:25   \n",
            "362                 16                16   2023-02-23 16:53:50   \n",
            "\n",
            "                                        7                    8           9   \\\n",
            "0                             Localisation  taux de remplissage        date   \n",
            "1    [47.2107421421814, -1.52593345192508]                36.36  2023-02-23   \n",
            "2                   [47.202547, -1.572325]                 12.5  2023-02-23   \n",
            "3    [47.2241950617326, -1.57661284372726]                53.33  2023-02-23   \n",
            "4    [47.2192139526135, -1.56157014764171]                57.14  2023-02-23   \n",
            "..                                     ...                  ...         ...   \n",
            "358                 [47.195308, -1.581806]                46.15  2023-02-23   \n",
            "359  [47.2185718130915, -1.55348429039295]                 15.0  2023-02-23   \n",
            "360  [47.2214293389855, -1.56330836686976]                57.14  2023-02-23   \n",
            "361   [47.2083172884415, -1.5611730779894]                48.39  2023-02-23   \n",
            "362  [47.2151496951626, -1.55022624256337]                  0.0  2023-02-23   \n",
            "\n",
            "           10  \n",
            "0       heure  \n",
            "1    16:03:35  \n",
            "2    16:03:26  \n",
            "3    16:03:28  \n",
            "4    16:04:09  \n",
            "..        ...  \n",
            "358  16:50:15  \n",
            "359  16:54:01  \n",
            "360  16:53:27  \n",
            "361  16:53:25  \n",
            "362  16:53:50  \n",
            "\n",
            "[363 rows x 11 columns]\n"
          ]
        }
      ]
    }
  ]
}